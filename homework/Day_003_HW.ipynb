{
 "cells": [
  {
   "cell_type": "markdown",
   "metadata": {},
   "source": [
    "# Day3-1 作業 \n",
    "### 在小量的資料上，我們用眼睛就可以看得出來程式碼是否有跑出我們理想中的結果。\n",
    "### 請嘗試想像一個你需要的資料結構 (裡面的值是隨機的)，然後用程式碼範例的方法把它變成 DataFrame。\n",
    "\n",
    "#### 請點擊下方檢視範例參考ipynb檔內容，Day_003-1_HW.ipynb檔\n"
   ]
  },
  {
   "cell_type": "markdown",
   "metadata": {},
   "source": [
    "# Day3-2 作業\n",
    "\n",
    "### 1.1. 讀取 txt 檔, 請讀取 text file https://raw.githubusercontent.com/vashineyu/slides_and_others/master/tutorial/examples/imagenet_urls_examples.txt \n",
    "### 1.2 將所提供的 txt 轉成 pandas dataframe\n",
    " \n",
    "### 2. 從所提供的 txt 中的連結讀取圖片，請讀取上面 data frame 中的前 5 張圖片\n",
    " \n",
    "#### 請點擊下方檢視範例參考ipynb檔內容，Day_003-2_HW.ipynb檔\n",
    "#### 提交提醒：作業有兩個檔案的提交方式，以下兩種方法都可以\n",
    " \n",
    "     1.用不同檔名分別上傳到github，然後以最後一題的網址來提交 Day_003-1_HW.ipynb Day_003-2_HW.ipynb\n",
    " \n",
    "     2.兩個題目手動合併在同個ipynb裡"
   ]
  },
  {
   "cell_type": "code",
   "execution_count": null,
   "metadata": {},
   "outputs": [],
   "source": []
  }
 ],
 "metadata": {
  "kernelspec": {
   "display_name": "Python 3",
   "language": "python",
   "name": "python3"
  },
  "language_info": {
   "codemirror_mode": {
    "name": "ipython",
    "version": 3
   },
   "file_extension": ".py",
   "mimetype": "text/x-python",
   "name": "python",
   "nbconvert_exporter": "python",
   "pygments_lexer": "ipython3",
   "version": "3.7.3"
  }
 },
 "nbformat": 4,
 "nbformat_minor": 2
}
